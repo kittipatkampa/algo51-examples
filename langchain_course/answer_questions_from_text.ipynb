{
 "cells": [
  {
   "cell_type": "markdown",
   "id": "b8738f7a-3d49-42b4-91d8-6e833b4c653a",
   "metadata": {},
   "source": [
    "Prerequisites:\n",
    "- Please prepare your API key in `.env` file like this:\n",
    "```\n",
    "OPENAI_API_KEY=sk-xxxx\n",
    "```\n",
    "- install necessary python package here:"
   ]
  },
  {
   "cell_type": "code",
   "execution_count": null,
   "id": "f6c18299-e64a-4c73-ad2f-cb16ef5a5105",
   "metadata": {},
   "outputs": [],
   "source": [
    "#!pip install python-dotenv\n",
    "#!pip install openai\n",
    "#!pip install --upgrade langchain"
   ]
  },
  {
   "cell_type": "markdown",
   "id": "fcca3406-17da-480f-ac9b-e7cb169ca84f",
   "metadata": {},
   "source": [
    "### Key findings\n",
    "- I used GPT-4 models because they provide much better accuracy than GPT-3.5 models on \"out of scope\" questions when controlling for prompt length. So I used \"gpt-4-1106-preview\" despite higher costs and latency.  \n",
    "- Moving the questions very close to the instructions in the prompt made the model more likely to flag irrelevant questions as \"out of scope\" without verbose explanations.\n",
    "\n",
    "### Future opportunities \n",
    "- With GPT-3.5, irrelevant questions yielded more verbose, wandering responses. But it can still work well with fewer than 3 questions.\n",
    "- In practice, GPT-3.5 with an additional classifier could filter out irrelevant questions, either a fine-tuned small language model or a simple BERT classifier.\n",
    "\n",
    "### How to play with the code\n",
    "Go to section \"**Test your case here**\", and play with:\n",
    "```\n",
    "answers = answer_questions(questions, paragraphs)\n",
    "```"
   ]
  },
  {
   "cell_type": "code",
   "execution_count": 1,
   "id": "b0e0b021-0538-4247-a291-148512d96e56",
   "metadata": {
    "tags": []
   },
   "outputs": [],
   "source": [
    "import os\n",
    "import json\n",
    "from typing import List\n",
    "import time\n",
    "\n",
    "from dotenv import load_dotenv, find_dotenv\n",
    "_ = load_dotenv(find_dotenv()) # read local .env file\n",
    "\n",
    "from langchain.chat_models import ChatOpenAI\n",
    "from langchain.prompts import ChatPromptTemplate"
   ]
  },
  {
   "cell_type": "code",
   "execution_count": 2,
   "id": "f4147ef6-ced4-44a2-bc34-43b14c349bab",
   "metadata": {
    "tags": []
   },
   "outputs": [],
   "source": [
    "# model initialization\n",
    "llm_model = \"gpt-4-1106-preview\"\n",
    "chat = ChatOpenAI(temperature=0.0, model=llm_model)"
   ]
  },
  {
   "cell_type": "code",
   "execution_count": 3,
   "id": "fb026fd0-206b-4e5b-9803-cc57871a72db",
   "metadata": {
    "tags": []
   },
   "outputs": [
    {
     "name": "stdout",
     "output_type": "stream",
     "text": [
      "response: 1 + 2 equals 3.; 1.0373380184173584\n"
     ]
    }
   ],
   "source": [
    "# Test your connection\n",
    "SIMPLE_TEMPLATE = \"\"\"What is {thing}?\"\"\"\n",
    "prompt_template = ChatPromptTemplate.from_template(SIMPLE_TEMPLATE)\n",
    "prompt = prompt_template.format_messages(\n",
    "                    thing=\"1+2\"\n",
    "                    )\n",
    "\n",
    "t0 = time.time()\n",
    "response = chat(prompt)\n",
    "print(f\"response: {response.content}; {time.time() - t0}\")"
   ]
  },
  {
   "cell_type": "code",
   "execution_count": 10,
   "id": "fec8fd3a-4200-4b49-bc45-3495756a202b",
   "metadata": {
    "tags": []
   },
   "outputs": [],
   "source": [
    "TEMPLATE_STRING = \"\"\"\n",
    "For the following text,\n",
    "\n",
    "text: ```{input_text}```\n",
    "\n",
    "Please answer the following questions:\n",
    "The output should be a markdown code snippet formatted in the following schema, including the leading and trailing \"```json\" and \"```\":\n",
    "\n",
    "```json\n",
    "{{\n",
    "{qa_format}\n",
    "}}\n",
    "\"\"\"\n",
    "\n",
    "def answer_questions(questions: List[str], paragraphs: str) -> List[str]:\n",
    "    \"\"\"Takes a list of question strings and a paragraph string, builds a prompt query for an AI assistant bot, sends the prompt, and returns the list of extracted answer strings.\n",
    "\n",
    "    Args:\n",
    "    questions (List[str]): List of question strings\n",
    "\n",
    "    paragraphs (str): Paragraph text\n",
    "\n",
    "    Returns:\n",
    "    List[str]: List of answer strings extracted from the AI response\n",
    "\n",
    "    Raises:\n",
    "    Exception: If no questions provided or paragraph too short/long\n",
    "\n",
    "    Steps:\n",
    "\n",
    "    Validate input\n",
    "    Build a QA schema for the questions\n",
    "    Format prompt with paragraph and QA schema\n",
    "    Send prompt and get AI response\n",
    "    Extract answers list from response\n",
    "    The internal _build_qa_schema function formats the questions into the expected QA schema for the prompt.\n",
    "\n",
    "    The chat() function sends the prompt to the actual AI service.\n",
    "\n",
    "    \"\"\"    \n",
    "    def _build_qa_schema(questions: List[str]) -> str:\n",
    "        qa = []\n",
    "        for i, q in enumerate(questions):\n",
    "            qa.append(f'\"question_{i}\": string // for question: \"{q}\", if the question is irrelevant to the input text, do not waste your time, just say \"out of scope\" right away')\n",
    "        return '\\n'.join(qa)    \n",
    "\n",
    "    ### -- basic test --\n",
    "    PARAGRAPH_LENGTH_MIN = 20\n",
    "    PARAGRAPH_LENGTH_MAX = 5000\n",
    "    \n",
    "    if not questions:\n",
    "        raise Exception(\"Please provide at least one question in `questions`\")\n",
    "        \n",
    "    if len(paragraphs) < PARAGRAPH_LENGTH_MIN:\n",
    "        raise Exception(f\"Your paragraph should be longer than {PARAGRAPH_LENGTH_MIN} characters\")\n",
    "\n",
    "    if len(paragraphs) < PARAGRAPH_LENGTH_MIN:\n",
    "        raise Exception(f\"Your paragraph should be longer than {PARAGRAPH_LENGTH_MIN} characters\")\n",
    "\n",
    "    if len(paragraphs) > PARAGRAPH_LENGTH_MAX:\n",
    "        raise Exception(f\"Your paragraph should be within {PARAGRAPH_LENGTH_MAX} characters\")\n",
    "        \n",
    "    ### -- main function --\n",
    "    prompt_template = ChatPromptTemplate.from_template(TEMPLATE_STRING)\n",
    "    prompt = prompt_template.format_messages(\n",
    "                        input_text=paragraphs,\n",
    "                        qa_format=_build_qa_schema(questions)\n",
    "                        )\n",
    "\n",
    "    response = chat(prompt)\n",
    "    \n",
    "    ### post process the output\n",
    "    answers = json.loads(response.content[8:-4])\n",
    "    return list(answers.values())\n",
    "     "
   ]
  },
  {
   "cell_type": "markdown",
   "id": "a66a6033-faba-4230-a65f-d5da9c817232",
   "metadata": {},
   "source": [
    "# Test your case here"
   ]
  },
  {
   "cell_type": "markdown",
   "id": "16a5b4eb-d5e2-4378-ba6e-4a69ef5c6ccb",
   "metadata": {},
   "source": [
    "For paragraph shorter than 1000 characters, it takes ~650 millisecond for each question added to `questions`."
   ]
  },
  {
   "cell_type": "code",
   "execution_count": 16,
   "id": "847cb192-737e-443c-9a14-da8c63d0ae9d",
   "metadata": {
    "tags": []
   },
   "outputs": [],
   "source": [
    "paragraphs = \"\"\"\n",
    "If you’ve always dreamed about living in San Francisco, now might be the right time to make your move. \\\n",
    "LinkedIn reports that the Bay Area has seen the second-biggest worker population gain of any area in the U.S. \\\n",
    "And this makes sense — many companies are calling workers back into the office now that the pandemic is past us (perhaps to work under a hybrid model), and San Francisco salaries make it an attractive place regardless of work-from-home policies.\n",
    "\n",
    "Interestingly, a lot of these rebounding employees are landing in the suburbs. \\\n",
    "In fact, San Francisco rents are slightly down year-over-year (decreasing by 4.3%) as of September 2023, in part due to the growth outside the city proper. \\\n",
    "You can chalk some of this up to San Francisco’s notoriously high real estate prices (i.e., prices are high in the city, so not many people move in, therefore rent prices don’t increase much).\n",
    "\"\"\"\n",
    "\n",
    "questions = [\n",
    "    # relevant questions -- expected the accurate answer from paragraphs\n",
    "    \"What does LinkedIn report about the Bay Area recently?\", # LinkedIn reports that the Bay Area has seen the second-biggest worker population gain of any area in the U.S.\n",
    "    \"Why does it make sense that the Bay Area has gained workers?\", # It makes sense because many companies are calling workers back into the office now that the pandemic is past us, and San Francisco salaries make it an attractive place regardless of work-from-home policies.\n",
    "    \"Where are many of the rebounding employees landing?\", # Many of the rebounding employees are landing in the suburbs.\n",
    "    \n",
    "    # irrelevant questions -- expected \"out of scope\"\n",
    "    \"What does Airbnb report about the Bay Area recently?\", # out of scope\n",
    "    \"Who is the biggest competitor of Tesla?\", # out of scope\n",
    "    \"What does LinkedIn report about the Seattle Area recently?\", # out of scope\n",
    "    \"How to build a large language model (LLM) using pytorch?\", # out of scope\n",
    "]"
   ]
  },
  {
   "cell_type": "code",
   "execution_count": 18,
   "id": "c4f20fb2-615f-47fe-94f2-63472554e45c",
   "metadata": {
    "tags": []
   },
   "outputs": [
    {
     "name": "stdout",
     "output_type": "stream",
     "text": [
      "response: [\n",
      "  \"LinkedIn reports that the Bay Area has seen the second-biggest worker population gain of any area in the U.S.\",\n",
      "  \"It makes sense that the Bay Area has gained workers because many companies are calling workers back into the office now that the pandemic is past, possibly to work under a hybrid model, and San Francisco salaries are attractive.\",\n",
      "  \"Many of the rebounding employees are landing in the suburbs.\",\n",
      "  \"out of scope\",\n",
      "  \"out of scope\",\n",
      "  \"out of scope\",\n",
      "  \"out of scope\"\n",
      "] \n",
      "time: 5.18 seconds\n"
     ]
    }
   ],
   "source": [
    "# This is a normal case\n",
    "t0 = time.time()\n",
    "answers = answer_questions(questions, paragraphs)\n",
    "print(f\"response: { json.dumps(answers, indent=2) } \\ntime: { round(time.time() - t0, 2) } seconds\")"
   ]
  },
  {
   "cell_type": "code",
   "execution_count": 14,
   "id": "653d934e-1033-49c7-869b-ab7eec2b82e7",
   "metadata": {
    "tags": []
   },
   "outputs": [
    {
     "ename": "Exception",
     "evalue": "Your paragraph should be longer than 20 characters",
     "output_type": "error",
     "traceback": [
      "\u001b[0;31m---------------------------------------------------------------------------\u001b[0m",
      "\u001b[0;31mException\u001b[0m                                 Traceback (most recent call last)",
      "Cell \u001b[0;32mIn[14], line 2\u001b[0m\n\u001b[1;32m      1\u001b[0m \u001b[38;5;66;03m# This will throw exception because the paragraphs is too short\u001b[39;00m\n\u001b[0;32m----> 2\u001b[0m answers \u001b[38;5;241m=\u001b[39m \u001b[43manswer_questions\u001b[49m\u001b[43m(\u001b[49m\u001b[43mquestions\u001b[49m\u001b[43m,\u001b[49m\u001b[43m \u001b[49m\u001b[43mparagraphs\u001b[49m\u001b[43m[\u001b[49m\u001b[43m:\u001b[49m\u001b[38;5;241;43m15\u001b[39;49m\u001b[43m]\u001b[49m\u001b[43m)\u001b[49m\n",
      "Cell \u001b[0;32mIn[10], line 30\u001b[0m, in \u001b[0;36manswer_questions\u001b[0;34m(questions, paragraphs)\u001b[0m\n\u001b[1;32m     27\u001b[0m     \u001b[38;5;28;01mraise\u001b[39;00m \u001b[38;5;167;01mException\u001b[39;00m(\u001b[38;5;124m\"\u001b[39m\u001b[38;5;124mPlease provide at least one question in `questions`\u001b[39m\u001b[38;5;124m\"\u001b[39m)\n\u001b[1;32m     29\u001b[0m \u001b[38;5;28;01mif\u001b[39;00m \u001b[38;5;28mlen\u001b[39m(paragraphs) \u001b[38;5;241m<\u001b[39m PARAGRAPH_LENGTH_MIN:\n\u001b[0;32m---> 30\u001b[0m     \u001b[38;5;28;01mraise\u001b[39;00m \u001b[38;5;167;01mException\u001b[39;00m(\u001b[38;5;124mf\u001b[39m\u001b[38;5;124m\"\u001b[39m\u001b[38;5;124mYour paragraph should be longer than \u001b[39m\u001b[38;5;132;01m{\u001b[39;00mPARAGRAPH_LENGTH_MIN\u001b[38;5;132;01m}\u001b[39;00m\u001b[38;5;124m characters\u001b[39m\u001b[38;5;124m\"\u001b[39m)\n\u001b[1;32m     32\u001b[0m \u001b[38;5;28;01mif\u001b[39;00m \u001b[38;5;28mlen\u001b[39m(paragraphs) \u001b[38;5;241m<\u001b[39m PARAGRAPH_LENGTH_MIN:\n\u001b[1;32m     33\u001b[0m     \u001b[38;5;28;01mraise\u001b[39;00m \u001b[38;5;167;01mException\u001b[39;00m(\u001b[38;5;124mf\u001b[39m\u001b[38;5;124m\"\u001b[39m\u001b[38;5;124mYour paragraph should be longer than \u001b[39m\u001b[38;5;132;01m{\u001b[39;00mPARAGRAPH_LENGTH_MIN\u001b[38;5;132;01m}\u001b[39;00m\u001b[38;5;124m characters\u001b[39m\u001b[38;5;124m\"\u001b[39m)\n",
      "\u001b[0;31mException\u001b[0m: Your paragraph should be longer than 20 characters"
     ]
    }
   ],
   "source": [
    "# This will throw exception because the paragraphs is too short\n",
    "answers = answer_questions(questions, paragraphs[:15])"
   ]
  },
  {
   "cell_type": "code",
   "execution_count": 15,
   "id": "64fb2b40-4042-4a05-80a6-a4f02c19f4ba",
   "metadata": {
    "tags": []
   },
   "outputs": [
    {
     "ename": "Exception",
     "evalue": "Please provide at least one question in `questions`",
     "output_type": "error",
     "traceback": [
      "\u001b[0;31m---------------------------------------------------------------------------\u001b[0m",
      "\u001b[0;31mException\u001b[0m                                 Traceback (most recent call last)",
      "Cell \u001b[0;32mIn[15], line 2\u001b[0m\n\u001b[1;32m      1\u001b[0m \u001b[38;5;66;03m# This will throw exception because there is no question\u001b[39;00m\n\u001b[0;32m----> 2\u001b[0m answers \u001b[38;5;241m=\u001b[39m \u001b[43manswer_questions\u001b[49m\u001b[43m(\u001b[49m\u001b[43m[\u001b[49m\u001b[43m]\u001b[49m\u001b[43m,\u001b[49m\u001b[43m \u001b[49m\u001b[43mparagraphs\u001b[49m\u001b[43m)\u001b[49m\n",
      "Cell \u001b[0;32mIn[10], line 27\u001b[0m, in \u001b[0;36manswer_questions\u001b[0;34m(questions, paragraphs)\u001b[0m\n\u001b[1;32m     24\u001b[0m PARAGRAPH_LENGTH_MAX \u001b[38;5;241m=\u001b[39m \u001b[38;5;241m5000\u001b[39m\n\u001b[1;32m     26\u001b[0m \u001b[38;5;28;01mif\u001b[39;00m \u001b[38;5;129;01mnot\u001b[39;00m questions:\n\u001b[0;32m---> 27\u001b[0m     \u001b[38;5;28;01mraise\u001b[39;00m \u001b[38;5;167;01mException\u001b[39;00m(\u001b[38;5;124m\"\u001b[39m\u001b[38;5;124mPlease provide at least one question in `questions`\u001b[39m\u001b[38;5;124m\"\u001b[39m)\n\u001b[1;32m     29\u001b[0m \u001b[38;5;28;01mif\u001b[39;00m \u001b[38;5;28mlen\u001b[39m(paragraphs) \u001b[38;5;241m<\u001b[39m PARAGRAPH_LENGTH_MIN:\n\u001b[1;32m     30\u001b[0m     \u001b[38;5;28;01mraise\u001b[39;00m \u001b[38;5;167;01mException\u001b[39;00m(\u001b[38;5;124mf\u001b[39m\u001b[38;5;124m\"\u001b[39m\u001b[38;5;124mYour paragraph should be longer than \u001b[39m\u001b[38;5;132;01m{\u001b[39;00mPARAGRAPH_LENGTH_MIN\u001b[38;5;132;01m}\u001b[39;00m\u001b[38;5;124m characters\u001b[39m\u001b[38;5;124m\"\u001b[39m)\n",
      "\u001b[0;31mException\u001b[0m: Please provide at least one question in `questions`"
     ]
    }
   ],
   "source": [
    "# This will throw exception because there is no question\n",
    "answers = answer_questions([], paragraphs)"
   ]
  },
  {
   "cell_type": "markdown",
   "id": "a20257fb-8cb4-46de-926e-0d8ff4d4f33c",
   "metadata": {
    "jp-MarkdownHeadingCollapsed": true,
    "tags": []
   },
   "source": [
    "# Long article (more than a few paragraph)"
   ]
  },
  {
   "cell_type": "markdown",
   "id": "36dd298f-1d23-4145-b751-f4d30c037195",
   "metadata": {},
   "source": [
    "I use Testla earning call from page 3 of\n",
    "https://digitalassets.tesla.com/tesla-contents/image/upload/IR/TSLA-Q3-2023-Update-3.pdf\n",
    "\n",
    "This test aims to text the scenario where the LLM is fed with all the information.\n",
    "Some valid questions are asked, some are irrelevant but in the context, some are easy questions like 1+2=? luring the LLM to answer.\n",
    "\n",
    "The results are correct.\n",
    "```\n",
    "response: [\n",
    "  \"The main objectives of the company in Q3-2023 were reducing cost per vehicle, free cash flow generation while maximizing delivery volumes, and continued investment in AI and other growth projects.\",\n",
    "  \"The cost of goods sold per vehicle decreased to approximately $37,500 in Q3.\",\n",
    "  \"The $37,500 refers to the reduced cost of goods sold per vehicle for the company in Q3.\",\n",
    "  \"out of scope\",\n",
    "  \"out of scope\",\n",
    "  \"out of scope\",\n",
    "  \"out of scope\"\n",
    "] \n",
    "time: 5.04 seconds\n",
    "```"
   ]
  },
  {
   "cell_type": "code",
   "execution_count": 62,
   "id": "d65ef728-838f-40be-9b25-216604ede826",
   "metadata": {
    "tags": []
   },
   "outputs": [],
   "source": [
    "paragraphs = \"\"\"\n",
    "Our main objectives remained unchanged in Q3-2023: reducing cost per\n",
    "vehicle, free cash flow generation while maximizing delivery volumes and\n",
    "continued investment in AI and other growth projects.\n",
    "\n",
    "Our cost of goods sold per vehicle decreased to ~$37,500 in Q3. While\n",
    "production cost at our new factories remained higher than our established\n",
    "factories, we have implemented necessary upgrades in Q3 to enable\n",
    "further unit cost reductions. We continue to believe that an industry leader needs to be a cost leader.\n",
    "\n",
    "During a high interest rate environment, we believe focusing on\n",
    "investments in R&D and capital expenditures for future growth, while\n",
    "maintaining positive free cash flow, is the right approach. Year-to-date,\n",
    "our free cash flow reached $2.3B while our cash and investments position continues to improve.\n",
    "\n",
    "We have more than doubled the size of our AI training compute to\n",
    "accommodate for our growing dataset as well as our Optimus robot\n",
    "project. Our humanoid robot is currently being trained for simple tasks\n",
    "through AI rather than hard-coded software, and its hardware is being\n",
    "further upgraded.\n",
    "\n",
    "Lastly, with a combined gross profit generation of over $0.5B in Q3, our\n",
    "Energy Generation and Storage business and Services and Other business\n",
    "have become meaningful contributors to our profitability.\n",
    "\"\"\""
   ]
  },
  {
   "cell_type": "code",
   "execution_count": 63,
   "id": "2b361a8d-b54d-4bf4-8ff8-6a1735148c79",
   "metadata": {
    "tags": []
   },
   "outputs": [
    {
     "name": "stdout",
     "output_type": "stream",
     "text": [
      "response: [\n",
      "  \"The main objectives of the company in Q3-2023 were reducing cost per vehicle, free cash flow generation while maximizing delivery volumes, and continued investment in AI and other growth projects.\",\n",
      "  \"The cost of goods sold per vehicle decreased to approximately $37,500 in Q3.\",\n",
      "  \"The $37,500 refers to the reduced cost of goods sold per vehicle for the company in Q3.\",\n",
      "  \"out of scope\",\n",
      "  \"out of scope\",\n",
      "  \"out of scope\",\n",
      "  \"out of scope\"\n",
      "] \n",
      "time: 5.04 seconds\n"
     ]
    }
   ],
   "source": [
    "questions = [\n",
    "    # relevant questions -- expected the accurate answer from paragraphs\n",
    "    \"What were the main objectives of the company in Q3-2023?\",\n",
    "    \"How much did the cost of goods sold per vehicle decrease to in Q3?\",\n",
    "    \"Please explain $37,500?\",\n",
    "    \n",
    "    # irrelevant questions -- expected \"out of scope\"\n",
    "    \"What is 1 + 2?\",\n",
    "    \"Who is the biggest competitor of Tesla?\",\n",
    "    \"What is the cost of goods sold per vehicle in Q4?\",\n",
    "    \"How to build a large language model (LLM) using pytorch?\"\n",
    "]\n",
    "    \n",
    "t0 = time.time()\n",
    "answers = answer_questions(questions, paragraphs)\n",
    "print(f\"response: { json.dumps(answers, indent=2) } \\ntime: { round(time.time() - t0, 2) } seconds\")"
   ]
  },
  {
   "cell_type": "markdown",
   "id": "57a1e0ec-df7d-4fb2-a4f8-4443c07f69ba",
   "metadata": {
    "jp-MarkdownHeadingCollapsed": true,
    "tags": []
   },
   "source": [
    "# Number of Questions vs Latency vs Accuracy"
   ]
  },
  {
   "cell_type": "markdown",
   "id": "a45024d9-d30a-4d44-a17b-ea23d2343dc7",
   "metadata": {},
   "source": [
    "number of questions:\n",
    "```\n",
    "20 questions ~ 15.35s\n",
    "10 questions ~ 8.7s\n",
    "5 questions ~ 5.77s\n",
    "```\n",
    "\n",
    "The latency is almost linearly increasing to the number of questions.\n",
    "So, in practice we should **limit the number of questions for latency**.\n",
    "\n",
    "All the questions are **answered accurately**. \n",
    "Although the temperature was set to 0, the LLM's responses are slightly different in 3 cases 20Q, 10Q, 5Q. \n",
    "That's because the entire prompt was different."
   ]
  },
  {
   "cell_type": "code",
   "execution_count": 65,
   "id": "02b9a7db-8fdd-4fb1-85f4-d9aa20e618fc",
   "metadata": {
    "tags": []
   },
   "outputs": [
    {
     "name": "stdout",
     "output_type": "stream",
     "text": [
      "response: [\n",
      "  \"reducing cost per vehicle, free cash flow generation while maximizing delivery volumes and continued investment in AI and other growth projects\",\n",
      "  \"~$37,500\",\n",
      "  \"Production cost at new factories remained higher than at established factories\",\n",
      "  \"Implemented necessary upgrades to enable further unit cost reductions\",\n",
      "  \"The company believes that an industry leader needs to be a cost leader\",\n",
      "  \"Focusing on investments in R&D and capital expenditures for future growth, while maintaining positive free cash flow\",\n",
      "  \"Year-to-date, the free cash flow reached $2.3B\",\n",
      "  \"The cash and investments position continues to improve\",\n",
      "  \"More than doubled\",\n",
      "  \"To accommodate for the growing dataset as well as the Optimus robot project\",\n",
      "  \"A humanoid robot project where the robot is being trained for simple tasks through AI\",\n",
      "  \"Through AI rather than hard-coded software\",\n",
      "  \"Its hardware is being further upgraded\",\n",
      "  \"Over $0.5B\",\n",
      "  \"They have become meaningful contributors to the company's profitability\",\n",
      "  \"Maximizing delivery volumes is part of the main objectives to generate free cash flow\",\n",
      "  \"By investing in R&D and capital expenditures for future growth while ensuring they maintain positive free cash flow\",\n",
      "  \"By doubling the size of AI training compute and working on the Optimus robot project\",\n",
      "  \"The cost reductions achieved in Q3 enable the company to continue being a cost leader in the industry\",\n",
      "  \"The company's strategy of investing in R&D and future growth projects while maintaining positive free cash flow aligns with its goals for future growth\"\n",
      "] \n",
      "time: 15.35 seconds\n"
     ]
    }
   ],
   "source": [
    "# Use 20 questions\n",
    "questions = [\n",
    "    # relevant questions -- expected the accurate answer from paragraphs\n",
    "    \"What were the unchanged main objectives of the company in Q3-2023?\",\n",
    "    \"What was the cost of goods sold per vehicle in Q3?\",\n",
    "    \"How did the production costs at the new factories compare to the established ones?\",\n",
    "    \"What actions were taken in the new factories in Q3?\",\n",
    "    \"How does the company view the relationship between industry leadership and cost leadership?\",\n",
    "    \"What strategy is deemed appropriate in a high interest rate environment?\",\n",
    "    \"What was the company's free cash flow by the end of Q3?\",\n",
    "    \"How has the company's cash and investments position changed by Q3?\",\n",
    "    \"By what factor was the AI training compute increased?\",\n",
    "    \"What is the purpose of expanding the AI training compute?\",\n",
    "    \"What is the Optimus robot project?\",\n",
    "    \"How is the humanoid robot, Optimus, being trained?\",\n",
    "    \"What upgrades are being made to the Optimus robot's hardware?\",\n",
    "    \"What was the combined gross profit of the Energy Generation and Storage business and Services and Other business in Q3?\",\n",
    "    \"How have these two businesses contributed to the company's profitability?\",\n",
    "    \"What is the significance of maximizing delivery volumes for the company?\",\n",
    "    \"How does the company balance investment in growth projects with maintaining positive cash flow?\",\n",
    "    \"In what ways is the company investing in AI?\",\n",
    "    \"What are the implications of the cost reductions achieved in Q3?\",\n",
    "    \"How does the company's strategy align with its goals for future growth?\",\n",
    "]\n",
    "    \n",
    "t0 = time.time()\n",
    "answers = answer_questions(questions, paragraphs)\n",
    "print(f\"response: { json.dumps(answers, indent=2) } \\ntime: { round(time.time() - t0, 2) } seconds\")"
   ]
  },
  {
   "cell_type": "code",
   "execution_count": 66,
   "id": "57032b52-d3f4-4d68-abc2-f28a271c8618",
   "metadata": {
    "tags": []
   },
   "outputs": [
    {
     "name": "stdout",
     "output_type": "stream",
     "text": [
      "response: [\n",
      "  \"reducing cost per vehicle, free cash flow generation while maximizing delivery volumes and continued investment in AI and other growth projects\",\n",
      "  \"~$37,500\",\n",
      "  \"Production cost at new factories remained higher than at established factories\",\n",
      "  \"Implemented necessary upgrades to enable further unit cost reductions\",\n",
      "  \"The company believes that an industry leader needs to be a cost leader\",\n",
      "  \"Focusing on investments in R&D and capital expenditures for future growth, while maintaining positive free cash flow\",\n",
      "  \"Year-to-date, the free cash flow reached $2.3B\",\n",
      "  \"The cash and investments position continues to improve\",\n",
      "  \"More than doubled\",\n",
      "  \"To accommodate for the growing dataset as well as the Optimus robot project\"\n",
      "] \n",
      "time: 8.7 seconds\n"
     ]
    }
   ],
   "source": [
    "# Use 10 questions\n",
    "t0 = time.time()\n",
    "answers = answer_questions(questions[:10], paragraphs)\n",
    "print(f\"response: { json.dumps(answers, indent=2) } \\ntime: { round(time.time() - t0, 2) } seconds\")"
   ]
  },
  {
   "cell_type": "code",
   "execution_count": 67,
   "id": "c7b05c79-64e6-41f9-808b-53c060014efd",
   "metadata": {
    "tags": []
   },
   "outputs": [
    {
     "name": "stdout",
     "output_type": "stream",
     "text": [
      "response: [\n",
      "  \"The unchanged main objectives of the company in Q3-2023 were reducing cost per vehicle, free cash flow generation while maximizing delivery volumes, and continued investment in AI and other growth projects.\",\n",
      "  \"The cost of goods sold per vehicle in Q3 was approximately $37,500.\",\n",
      "  \"The production costs at the new factories remained higher than at the established factories.\",\n",
      "  \"The actions taken in the new factories in Q3 included implementing necessary upgrades to enable further unit cost reductions.\",\n",
      "  \"The company believes that an industry leader needs to be a cost leader.\"\n",
      "] \n",
      "time: 5.77 seconds\n"
     ]
    }
   ],
   "source": [
    "# Use 5 questions\n",
    "t0 = time.time()\n",
    "answers = answer_questions(questions[:5], paragraphs)\n",
    "print(f\"response: { json.dumps(answers, indent=2) } \\ntime: { round(time.time() - t0, 2) } seconds\")"
   ]
  },
  {
   "cell_type": "markdown",
   "id": "a98a12b8-25a8-485d-b24b-1a499bf17856",
   "metadata": {},
   "source": [
    "## Remove some paragraphs to invalidate some more questions"
   ]
  },
  {
   "cell_type": "markdown",
   "id": "eb0beee2-1259-4624-9be4-b7a8ce569014",
   "metadata": {},
   "source": [
    "The results are still correct.\n",
    "```\n",
    "[\n",
    "  \"The main objectives of the company in Q3-2023 were reducing cost per vehicle, free cash flow generation while maximizing delivery volumes, and continued investment in AI and other growth projects.\",\n",
    "  \"out of scope\",\n",
    "  \"out of scope\",\n",
    "  \"out of scope\",\n",
    "  \"out of scope\",\n",
    "  \"out of scope\",\n",
    "  \"out of scope\"\n",
    "]\n",
    "```"
   ]
  },
  {
   "cell_type": "code",
   "execution_count": 60,
   "id": "6bbd3177-7be2-4d77-a151-26e98c9629ae",
   "metadata": {
    "tags": []
   },
   "outputs": [
    {
     "name": "stdout",
     "output_type": "stream",
     "text": [
      "response: [\n",
      "  \"The main objectives of the company in Q3-2023 were reducing cost per vehicle, free cash flow generation, maximizing delivery volumes, and continued investment in AI and other growth projects.\",\n",
      "  \"out of scope\",\n",
      "  \"out of scope\",\n",
      "  \"out of scope\",\n",
      "  \"out of scope\",\n",
      "  \"out of scope\",\n",
      "  \"out of scope\"\n",
      "] \n",
      "time: 5.03 seconds\n"
     ]
    }
   ],
   "source": [
    "paragraphs = \"\"\"\n",
    "Our main objectives remained unchanged in Q3-2023: reducing cost per\n",
    "vehicle, free cash flow generation while maximizing delivery volumes and\n",
    "continued investment in AI and other growth projects.\n",
    "\"\"\"\n",
    "\n",
    "questions = [\n",
    "    # relevant questions -- expected the accurate answer from paragraphs\n",
    "    \"What were the main objectives of the company in Q3-2023?\",\n",
    "    \"How much did the cost of goods sold per vehicle decrease to in Q3?\",\n",
    "    \"Please explain $37,500?\",\n",
    "    \n",
    "    # irrelevant questions -- expected \"out of scope\"\n",
    "    \"What is 1 + 2?\",\n",
    "    \"Who is the biggest competitor of Tesla?\",\n",
    "    \"What is the cost of goods sold per vehicle in Q4?\",\n",
    "    \"How to build a large language model (LLM) using pytorch?\"\n",
    "]\n",
    "    \n",
    "t0 = time.time()\n",
    "answers = answer_questions(questions, paragraphs)\n",
    "print(f\"response: { json.dumps(answers, indent=2) } \\ntime: { round(time.time() - t0, 2) } seconds\")"
   ]
  },
  {
   "cell_type": "code",
   "execution_count": null,
   "id": "24ff0321-14c1-4087-a5b4-8e941ed8f270",
   "metadata": {},
   "outputs": [],
   "source": []
  }
 ],
 "metadata": {
  "kernelspec": {
   "display_name": "Python 3 (ipykernel)",
   "language": "python",
   "name": "python3"
  },
  "language_info": {
   "codemirror_mode": {
    "name": "ipython",
    "version": 3
   },
   "file_extension": ".py",
   "mimetype": "text/x-python",
   "name": "python",
   "nbconvert_exporter": "python",
   "pygments_lexer": "ipython3",
   "version": "3.9.18"
  }
 },
 "nbformat": 4,
 "nbformat_minor": 5
}
