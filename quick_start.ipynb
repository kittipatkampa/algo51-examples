{
 "cells": [
  {
   "cell_type": "markdown",
   "id": "d5a5f94a-263d-46ea-8896-98e0963e5dff",
   "metadata": {},
   "source": [
    "In your terminal, please run:\n",
    "```\n",
    "export OPENAI_API_KEY='<OPENAPI_KEY_HERE>'\n",
    "```\n",
    "This will store your OpenAI API key in your environment, which will be shared implicitly to this notebook."
   ]
  },
  {
   "cell_type": "markdown",
   "id": "1682031f-53ce-460e-bc6d-ac4d23006399",
   "metadata": {},
   "source": [
    "# OpenAI"
   ]
  },
  {
   "cell_type": "code",
   "execution_count": 13,
   "id": "009a4885-4330-4be1-9e38-b49262962150",
   "metadata": {},
   "outputs": [],
   "source": [
    "import openai"
   ]
  },
  {
   "cell_type": "code",
   "execution_count": 15,
   "id": "531078cd-9f47-490b-ac30-e64ba8f5c346",
   "metadata": {},
   "outputs": [],
   "source": [
    "response = openai.ChatCompletion.create(\n",
    "  model=\"gpt-3.5-turbo\",\n",
    "  messages=[\n",
    "        {\"role\": \"system\", \"content\": \"You are a helpful assistant.\"},\n",
    "        {\"role\": \"user\", \"content\": \"Who won the world series in 2020?\"},\n",
    "        {\"role\": \"assistant\", \"content\": \"The Los Angeles Dodgers won the World Series in 2020.\"},\n",
    "        {\"role\": \"user\", \"content\": \"Where was it played?\"}\n",
    "    ]\n",
    ")"
   ]
  },
  {
   "cell_type": "code",
   "execution_count": 16,
   "id": "0052bf41-d57c-4219-9ffe-ad15154a079a",
   "metadata": {},
   "outputs": [
    {
     "data": {
      "text/plain": [
       "<OpenAIObject chat.completion id=chatcmpl-7Sqmon5MIspyGwb1NvjFMiECps31K at 0x13727adb0> JSON: {\n",
       "  \"id\": \"chatcmpl-7Sqmon5MIspyGwb1NvjFMiECps31K\",\n",
       "  \"object\": \"chat.completion\",\n",
       "  \"created\": 1687110450,\n",
       "  \"model\": \"gpt-3.5-turbo-0301\",\n",
       "  \"usage\": {\n",
       "    \"prompt_tokens\": 57,\n",
       "    \"completion_tokens\": 17,\n",
       "    \"total_tokens\": 74\n",
       "  },\n",
       "  \"choices\": [\n",
       "    {\n",
       "      \"message\": {\n",
       "        \"role\": \"assistant\",\n",
       "        \"content\": \"The 2020 World Series was played in Arlington, Texas at Globe Life Field.\"\n",
       "      },\n",
       "      \"finish_reason\": \"stop\",\n",
       "      \"index\": 0\n",
       "    }\n",
       "  ]\n",
       "}"
      ]
     },
     "execution_count": 16,
     "metadata": {},
     "output_type": "execute_result"
    }
   ],
   "source": [
    "response"
   ]
  },
  {
   "cell_type": "code",
   "execution_count": 18,
   "id": "d7609995-e861-4d21-97ad-7f3d5d03bab5",
   "metadata": {},
   "outputs": [
    {
     "name": "stdout",
     "output_type": "stream",
     "text": [
      "The 2020 World Series was played in Arlington, Texas at Globe Life Field.\n"
     ]
    }
   ],
   "source": [
    "print(response['choices'][0]['message']['content'])"
   ]
  },
  {
   "cell_type": "markdown",
   "id": "9b3b6bb6-50d7-4c56-82fa-ebfd02cf3f25",
   "metadata": {},
   "source": [
    "# Langchain"
   ]
  },
  {
   "cell_type": "code",
   "execution_count": 2,
   "id": "31352b3e-52aa-478a-ab00-db4f066624f3",
   "metadata": {},
   "outputs": [],
   "source": [
    "from langchain.llms import OpenAI"
   ]
  },
  {
   "cell_type": "markdown",
   "id": "3fa9a078-323d-4f44-9c1c-b004414471ce",
   "metadata": {},
   "source": [
    "### Text completion"
   ]
  },
  {
   "cell_type": "code",
   "execution_count": 8,
   "id": "2cbb5601-32fa-4374-a9d0-4023755cc65e",
   "metadata": {},
   "outputs": [],
   "source": [
    "llm = OpenAI(model='text-curie-001', temperature=0.9)"
   ]
  },
  {
   "cell_type": "code",
   "execution_count": 11,
   "id": "491269ac-1415-474c-8263-69e1ac4ba8eb",
   "metadata": {},
   "outputs": [],
   "source": [
    "response = llm.predict(text='Tell me a joke')"
   ]
  },
  {
   "cell_type": "code",
   "execution_count": 12,
   "id": "78d68480-57a0-4e93-9b77-78f3c71a5575",
   "metadata": {},
   "outputs": [
    {
     "name": "stdout",
     "output_type": "stream",
     "text": [
      "\n",
      "\n",
      "Why don't scientists trust atoms?\n",
      "\n",
      "Because they make up everything.\n"
     ]
    }
   ],
   "source": [
    "print(response)"
   ]
  },
  {
   "cell_type": "code",
   "execution_count": null,
   "id": "f5dbfb58-fd2b-4711-96eb-42bcd96ba6ab",
   "metadata": {},
   "outputs": [],
   "source": []
  }
 ],
 "metadata": {
  "kernelspec": {
   "display_name": "Python 3 (ipykernel)",
   "language": "python",
   "name": "python3"
  },
  "language_info": {
   "codemirror_mode": {
    "name": "ipython",
    "version": 3
   },
   "file_extension": ".py",
   "mimetype": "text/x-python",
   "name": "python",
   "nbconvert_exporter": "python",
   "pygments_lexer": "ipython3",
   "version": "3.11.4"
  }
 },
 "nbformat": 4,
 "nbformat_minor": 5
}
